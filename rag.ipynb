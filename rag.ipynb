{
  "cells": [
    {
      "cell_type": "markdown",
      "metadata": {
        "id": "view-in-github",
        "colab_type": "text"
      },
      "source": [
        "<a href=\"https://colab.research.google.com/github/10firestorm/repo1/blob/main/rag.ipynb\" target=\"_parent\"><img src=\"https://colab.research.google.com/assets/colab-badge.svg\" alt=\"Open In Colab\"/></a>"
      ]
    },
    {
      "cell_type": "code",
      "execution_count": null,
      "metadata": {
        "id": "8w8U0i6q0Mc8"
      },
      "outputs": [],
      "source": [
        "from google.colab import userdata\n",
        "import os\n",
        "!pip install -U gradio\n",
        "import gradio as gr\n",
        "\n",
        "!pip install -U langchain-community langchain-core fastapi uvicorn requests beautifulsoup4 pymupdf faiss-cpu huggingface_hub transformers accelerate bitsandbytes langchain-openai gradio\n",
        "\n",
        "os.environ[\"HUGGINGFACEHUB_API_TOKEN\"] = userdata.get('read')\n",
        "\n",
        "from langchain.document_loaders import WebBaseLoader, PyMuPDFLoader\n",
        "from langchain.embeddings import HuggingFaceEmbeddings\n",
        "from langchain.vectorstores import FAISS\n",
        "from langchain.llms import HuggingFaceHub\n",
        "from langchain.chains.question_answering import load_qa_chain\n",
        "\n",
        "def load_pdf(file_path):\n",
        "    loader = PyMuPDFLoader(file_path)\n",
        "    docs = loader.load()\n",
        "    return docs\n",
        "\n",
        "def load_website(url):\n",
        "    loader = WebBaseLoader(url)\n",
        "    docs = loader.load()\n",
        "    return docs\n",
        "\n",
        "def setup_vector_store(docs):\n",
        "    embeddings = HuggingFaceEmbeddings()\n",
        "    vector_store = FAISS.from_documents(docs, embeddings)\n",
        "    return vector_store\n",
        "\n",
        "def ask_question(query, vector_store):\n",
        "    retriever = vector_store.as_retriever()\n",
        "    docs = retriever.get_relevant_documents(query)\n",
        "    llm = HuggingFaceHub(\n",
        "        repo_id=\"mistralai/Mixtral-8x7B-Instruct-v0.1\",\n",
        "        model_kwargs={\"temperature\": 0.7, \"max_length\": 512}\n",
        "    )\n",
        "    chain = load_qa_chain(llm, chain_type=\"stuff\")\n",
        "    response = chain.run(input_documents=docs, question=query)\n",
        "    return response\n",
        "\n",
        "def process_input(weblink, pdf_file, question):\n",
        "    docs = []\n",
        "    if weblink:\n",
        "        docs.extend(load_website(weblink))\n",
        "    if pdf_file:\n",
        "        docs.extend(load_pdf(pdf_file.name))\n",
        "\n",
        "    if not docs:\n",
        "        return \"Please provide a website link or upload a PDF.\"\n",
        "\n",
        "    vector_store = setup_vector_store(docs)\n",
        "    response = ask_question(question, vector_store)\n",
        "    return response\n",
        "\n",
        "demo = gr.Interface(\n",
        "    fn=process_input,\n",
        "    inputs=[\n",
        "        gr.Textbox(label=\"Website Link (Optional)\"),\n",
        "        gr.File(label=\"Upload PDF (Optional)\"),\n",
        "        gr.Textbox(label=\"Ask a Question\")\n",
        "    ],\n",
        "    outputs=gr.Textbox(label=\"Final Answer\"),\n",
        "    title=\"Web & PDF QA System\"\n",
        ")\n",
        "\n",
        "demo.launch()\n"
      ]
    }
  ],
  "metadata": {
    "colab": {
      "provenance": [],
      "authorship_tag": "ABX9TyPh1nrbZ6A856WxZHNLhDOK",
      "include_colab_link": true
    },
    "kernelspec": {
      "display_name": "Python 3",
      "name": "python3"
    },
    "language_info": {
      "name": "python"
    }
  },
  "nbformat": 4,
  "nbformat_minor": 0
}